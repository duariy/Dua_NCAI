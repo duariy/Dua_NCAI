{
 "cells": [
  {
   "cell_type": "code",
   "execution_count": null,
   "id": "4625f954",
   "metadata": {},
   "outputs": [],
   "source": [
    "import nibabel as nib\n",
    "import numpy as np\n",
    "import matplotlib.pyplot as plt\n",
    "\n",
    "test_load = nib.load('datasets/niftii-brain-scans/nihpd_sym_04.5-08.5_csf.nii').get_fdata()\n",
    "test = test_load[:,:,100]"
   ]
  },
  {
   "cell_type": "code",
   "execution_count": null,
   "id": "c2bd8833",
   "metadata": {},
   "outputs": [],
   "source": [
    "import nibabel as nib\n",
    "import numpy as np\n",
    "import matplotlib.pyplot as plt\n",
    "from ipywidgets import interact, IntSlider\n",
    "\n",
    "def load_nifti(file_path):\n",
    "    img = nib.load(file_path)\n",
    "    data = img.get_fdata()\n",
    "    affine = img.affine\n",
    "    return data, affine\n",
    "\n",
    "def plot_orthogonal_views(volume, slice_x=None, slice_y=None, slice_z=None):\n",
    "    if slice_x is None:\n",
    "        slice_x = volume.shape[0] // 2\n",
    "    if slice_y is None:\n",
    "        slice_y = volume.shape[1] // 2\n",
    "    if slice_z is None:\n",
    "        slice_z = volume.shape[2] // 2\n",
    "    \n",
    "    fig, (ax1, ax2, ax3) = plt.subplots(1, 3, figsize=(15, 5))\n",
    "    \n",
    "    # Sagittal view (X-axis)\n",
    "    ax1.imshow(volume[slice_x, :, :].T, cmap='gray', origin='lower')\n",
    "    ax1.set_title(f'Sagittal\\nSlice {slice_x}/{volume.shape[0]}')\n",
    "    ax1.axhline(slice_y, color='r', linestyle='--')\n",
    "    ax1.axvline(slice_z, color='b', linestyle='--')\n",
    "    \n",
    "    # Coronal view (Y-axis)\n",
    "    ax2.imshow(volume[:, slice_y, :].T, cmap='gray', origin='lower')\n",
    "    ax2.set_title(f'Coronal\\nSlice {slice_y}/{volume.shape[1]}')\n",
    "    ax2.axhline(slice_x, color='r', linestyle='--')\n",
    "    ax2.axvline(slice_z, color='b', linestyle='--')\n",
    "    \n",
    "    # Axial view (Z-axis)\n",
    "    ax3.imshow(volume[:, :, slice_z].T, cmap='gray', origin='lower')\n",
    "    ax3.set_title(f'Axial\\nSlice {slice_z}/{volume.shape[2]}')\n",
    "    ax3.axhline(slice_x, color='r', linestyle='--')\n",
    "    ax3.axvline(slice_y, color='b', linestyle='--')\n",
    "    \n",
    "    plt.tight_layout()\n",
    "    plt.show()\n",
    "\n",
    "def interactive_viewer(volume):\n",
    "    def update(sagittal_slice, coronal_slice, axial_slice):\n",
    "        plot_orthogonal_views(volume, sagittal_slice, coronal_slice, axial_slice)\n",
    "    \n",
    "    interact(update,\n",
    "             sagittal_slice=IntSlider(min=0, max=volume.shape[0]-1, step=1, value=volume.shape[0]//2),\n",
    "             coronal_slice=IntSlider(min=0, max=volume.shape[1]-1, step=1, value=volume.shape[1]//2),\n",
    "             axial_slice=IntSlider(min=0, max=volume.shape[2]-1, step=1, value=volume.shape[2]//2))    "
   ]
  },
  {
   "cell_type": "code",
   "execution_count": null,
   "id": "3ad7e81b",
   "metadata": {},
   "outputs": [],
   "source": [
    "nifti_file = \"datasets/niftii-brain-scans/nihpd_sym_04.5-08.5_csf.nii\"  \n",
    "data, _ = load_nifti(nifti_file)\n",
    "    \n",
    "if len(data.shape) == 4:  \n",
    "      data = data[..., 0]\n",
    "      print(\"4D data detected - using first volume\")\n",
    "    \n",
    "print(f\"Volume dimensions: {data.shape}\")\n",
    "interactive_viewer(data)\n"
   ]
  }
 ],
 "metadata": {
  "kernelspec": {
   "display_name": "neuroenv",
   "language": "python",
   "name": "python3"
  },
  "language_info": {
   "codemirror_mode": {
    "name": "ipython",
    "version": 3
   },
   "file_extension": ".py",
   "mimetype": "text/x-python",
   "name": "python",
   "nbconvert_exporter": "python",
   "pygments_lexer": "ipython3",
   "version": "3.10.11"
  }
 },
 "nbformat": 4,
 "nbformat_minor": 5
}
