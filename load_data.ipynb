{
 "cells": [
  {
   "cell_type": "code",
   "execution_count": null,
   "id": "3700ef94",
   "metadata": {},
   "outputs": [],
   "source": [
    "import nibabel as nib\n",
    "import numpy as np\n",
    "import matplotlib.pyplot as plt\n",
    "\n",
    "test_load = nib.load('datasets/niftii-brain-scans/nihpd_sym_04.5-08.5_csf.nii').get_fdata()\n",
    "test_load.shape"
   ]
  },
  {
   "cell_type": "code",
   "execution_count": null,
   "id": "2f53293a",
   "metadata": {},
   "outputs": [],
   "source": [
    "import nibabel as nib\n",
    "import matplotlib.pyplot as plt\n",
    "from ipywidgets import interact, IntSlider\n",
    "\n",
    "def load_nii(file_path):\n",
    "    img = nib.load(file_path)\n",
    "    data = img.get_fdata()\n",
    "    return data"
   ]
  },
  {
   "cell_type": "code",
   "execution_count": null,
   "id": "a12a1794",
   "metadata": {},
   "outputs": [],
   "source": [
    "def plot_slice(volume, slice_idx):\n",
    "    plt.figure(figsize=(10, 8))\n",
    "    plt.imshow(volume[:, :, slice_idx].T, cmap=\"gray\", origin=\"lower\")\n",
    "    plt.axis(\"off\")\n",
    "    plt.title(f\"Slice {slice_idx}\")\n",
    "    plt.show()"
   ]
  },
  {
   "cell_type": "code",
   "execution_count": null,
   "id": "69fbd162",
   "metadata": {},
   "outputs": [],
   "source": [
    "def interactive_viewer(volume):\n",
    "    max_slice = volume.shape[2] - 1\n",
    "    interact(\n",
    "        lambda slice_idx: plot_slice(volume, slice_idx),\n",
    "        slice_idx=IntSlider(min=0, max=max_slice, step=1, value=max_slice // 2),\n",
    "    )"
   ]
  },
  {
   "cell_type": "code",
   "execution_count": null,
   "id": "79591072",
   "metadata": {},
   "outputs": [],
   "source": [
    "nii_file = \"datasets/niftii-brain-scans/nihpd_sym_04.5-08.5_csf.nii\"  \n",
    "volume_data = load_nii(nii_file)\n",
    "interactive_viewer(volume_data)"
   ]
  },
  {
   "cell_type": "code",
   "execution_count": null,
   "id": "dbd2eace",
   "metadata": {},
   "outputs": [],
   "source": [
    "import nibabel as nib\n",
    "import numpy as np\n",
    "import matplotlib.pyplot as plt\n",
    "\n",
    "test_load = nib.load('datasets/niftii-brain-scans/nihpd_sym_04.5-08.5_csf.nii').get_fdata()\n",
    "print(test_load.shape)\n",
    "\n",
    "plt.imshow(test_load[:,:,test_load.shape[2]//2])\n",
    "plt.show()"
   ]
  },
  {
   "cell_type": "code",
   "execution_count": null,
   "id": "6c5ad40b",
   "metadata": {},
   "outputs": [],
   "source": [
    "import nibabel as nib\n",
    "import matplotlib.pyplot as plt\n",
    "\n",
    "path = 'datasets/niftii-brain-scans/nihpd_sym_04.5-08.5_csf.nii'\n",
    "Nifti_img  = nib.load(path)\n",
    "nii_data = Nifti_img.get_fdata()\n",
    "nii_aff  = Nifti_img.affine\n",
    "nii_hdr  = Nifti_img.header\n",
    "print(nii_aff ,'\\n',nii_hdr)\n",
    "print(nii_data.shape)\n",
    "if(len(nii_data.shape)==3):\n",
    "   for slice_Number in range(nii_data.shape[2]):\n",
    "       plt.imshow(nii_data[:,:,slice_Number ])\n",
    "       plt.show()\n",
    "if(len(nii_data.shape)==4):\n",
    "   for frame in range(nii_data.shape[3]):\n",
    "       for slice_Number in range(nii_data.shape[2]):\n",
    "           plt.imshow(nii_data[:,:,slice_Number,frame])\n",
    "           plt.show()"
   ]
  }
 ],
 "metadata": {
  "kernelspec": {
   "display_name": "neuroenv",
   "language": "python",
   "name": "python3"
  },
  "language_info": {
   "codemirror_mode": {
    "name": "ipython",
    "version": 3
   },
   "file_extension": ".py",
   "mimetype": "text/x-python",
   "name": "python",
   "nbconvert_exporter": "python",
   "pygments_lexer": "ipython3",
   "version": "3.10.11"
  }
 },
 "nbformat": 4,
 "nbformat_minor": 5
}
