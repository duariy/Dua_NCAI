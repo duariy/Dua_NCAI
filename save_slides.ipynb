{
 "cells": [
  {
   "cell_type": "code",
   "execution_count": null,
   "id": "400b78fb",
   "metadata": {},
   "outputs": [],
   "source": [
    "import nibabel as nib\n",
    "import numpy as np\n",
    "import matplotlib.pyplot as plt\n",
    "import cv2\n",
    "\n",
    "nifti_img = nib.load('datasets/niftii-brain-scans/nihpd_sym_04.5-08.5_csf.nii')\n",
    "test_load = nib.load('datasets/niftii-brain-scans/nihpd_sym_04.5-08.5_csf.nii').get_fdata()\n",
    "test_load.shape\n",
    "\n",
    "\n",
    "test = test_load[:,:,59]\n",
    "plt.imshow(test)\n",
    "plt.show()"
   ]
  },
  {
   "cell_type": "code",
   "execution_count": null,
   "id": "0df83de3",
   "metadata": {},
   "outputs": [],
   "source": [
    "\n",
    "image_data = nifti_img.get_fdata()\n",
    "for i in range(image_data.shape[2]):\n",
    "    slice_data = image_data[:, :, i]\n",
    "    slice_data = cv2.normalize(slice_data, None, 0, 255, cv2.NORM_MINMAX, cv2.CV_8U)\n",
    "    cv2.imwrite(f\"datasets/dataslices/slice_{i}.jpg\", slice_data)"
   ]
  }
 ],
 "metadata": {
  "kernelspec": {
   "display_name": "neuroenv",
   "language": "python",
   "name": "python3"
  },
  "language_info": {
   "codemirror_mode": {
    "name": "ipython",
    "version": 3
   },
   "file_extension": ".py",
   "mimetype": "text/x-python",
   "name": "python",
   "nbconvert_exporter": "python",
   "pygments_lexer": "ipython3",
   "version": "3.10.11"
  }
 },
 "nbformat": 4,
 "nbformat_minor": 5
}
